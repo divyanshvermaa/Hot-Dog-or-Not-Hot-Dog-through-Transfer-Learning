{
  "cells": [
    {
      "cell_type": "markdown",
      "metadata": {
        "id": "UMj4keK5GU5a"
      },
      "source": [
        "# Importing Libraries/ Packages"
      ]
    },
    {
      "cell_type": "code",
      "execution_count": null,
      "metadata": {
        "id": "pL91vBWRGU5d"
      },
      "outputs": [],
      "source": [
        "from tensorflow import keras\n",
        "import numpy as np\n",
        "import matplotlib.pyplot as plt\n",
        "\n",
        "from keras.preprocessing.image import ImageDataGenerator\n",
        "from keras.models import Sequential\n",
        "from keras.layers import Conv2D, MaxPooling2D, GlobalAveragePooling2D, UpSampling2D, Rescaling\n",
        "from keras.layers import Activation, Dropout, Flatten, Dense\n",
        "from keras import backend as K"
      ]
    },
    {
      "cell_type": "code",
      "execution_count": null,
      "metadata": {
        "id": "psF0rUIu4TvA"
      },
      "outputs": [],
      "source": [
        "from tensorflow.keras.applications import MobileNet"
      ]
    },
    {
      "cell_type": "code",
      "source": [
        "import warnings\n",
        "warnings.filterwarnings('ignore')"
      ],
      "metadata": {
        "id": "-DNEc7KgJMRc"
      },
      "execution_count": null,
      "outputs": []
    },
    {
      "cell_type": "markdown",
      "metadata": {
        "id": "J_3DeX7vGU5m"
      },
      "source": [
        "# Loading Dataset "
      ]
    },
    {
      "cell_type": "code",
      "execution_count": null,
      "metadata": {
        "colab": {
          "base_uri": "https://localhost:8080/"
        },
        "id": "W7hGl3-aItSo",
        "outputId": "d2ca7d7d-71d7-43fb-848f-7de1345ae588"
      },
      "outputs": [
        {
          "output_type": "stream",
          "name": "stdout",
          "text": [
            "--2022-03-29 05:25:27--  https://briankeng.com/files/hotdog.tar.gz\n",
            "Resolving briankeng.com (briankeng.com)... 192.0.78.240, 192.0.78.156\n",
            "Connecting to briankeng.com (briankeng.com)|192.0.78.240|:443... connected.\n",
            "HTTP request sent, awaiting response... 200 OK\n",
            "Length: 46732258 (45M) [application/octet-stream]\n",
            "Saving to: ‘hotdog.tar.gz.3’\n",
            "\n",
            "hotdog.tar.gz.3     100%[===================>]  44.57M  22.1MB/s    in 2.0s    \n",
            "\n",
            "2022-03-29 05:25:29 (22.1 MB/s) - ‘hotdog.tar.gz.3’ saved [46732258/46732258]\n",
            "\n"
          ]
        }
      ],
      "source": [
        "! wget https://briankeng.com/files/hotdog.tar.gz\n",
        "! tar -xzf hotdog.tar.gz"
      ]
    },
    {
      "cell_type": "markdown",
      "source": [
        "# Self-Defined Functions for Repeat Use"
      ],
      "metadata": {
        "id": "CGD4J4pmJA3z"
      }
    },
    {
      "cell_type": "code",
      "source": [
        "def evaluate_model(model, runs=5):\n",
        "    scores = [] \n",
        "    for i in range(runs):\n",
        "        print('Executing run %d' % (i+1))\n",
        "        model.fit_generator(train_generator,\n",
        "                            callbacks=[],\n",
        "                            steps_per_epoch=num_train_samples // batch_size,\n",
        "                            epochs=epochs, verbose=0)\n",
        "        print(' * Evaluating model on test set')\n",
        "        scores.append(model.evaluate_generator(test_generator, \n",
        "                                               steps=num_test_samples // batch_size,\n",
        "                                               verbose=0))\n",
        "        print(' * Test set Loss: %.4f, Accuracy: %.4f' % (scores[-1][0], scores[-1][1]))\n",
        "        \n",
        "    accuracies = [score[1] for score in scores]     \n",
        "    return np.mean(accuracies), np.std(accuracies)"
      ],
      "metadata": {
        "id": "l8h51j_3JAmq"
      },
      "execution_count": null,
      "outputs": []
    },
    {
      "cell_type": "markdown",
      "source": [
        "# Data Pre-Processing"
      ],
      "metadata": {
        "id": "5XjNdYd-GTmL"
      }
    },
    {
      "cell_type": "code",
      "execution_count": null,
      "metadata": {
        "id": "_PnwVtTiGU5r"
      },
      "outputs": [],
      "source": [
        "img_width, img_height = 150, 150\n",
        "\n",
        "train_data_dir = 'hotdog/train'\n",
        "test_data_dir = 'hotdog/test'\n",
        "\n",
        "if K.image_data_format() == 'channels_first':\n",
        "    input_shape = (3, img_width, img_height)\n",
        "else:\n",
        "    input_shape = (img_width, img_height, 3)"
      ]
    },
    {
      "cell_type": "markdown",
      "metadata": {
        "id": "W2p61NreGU5x"
      },
      "source": [
        "# Part (a): Simple CNN Model"
      ]
    },
    {
      "cell_type": "code",
      "execution_count": null,
      "metadata": {
        "id": "4qR8gB1eGU5z"
      },
      "outputs": [],
      "source": [
        "def model_a():\n",
        "    model = Sequential()\n",
        "    model.add(Conv2D(32, (3, 3), input_shape=input_shape))\n",
        "    model.add(Activation('relu'))\n",
        "    model.add(MaxPooling2D(pool_size=(2, 2)))\n",
        "    \n",
        "    model.add(Conv2D(32, (3, 3)))\n",
        "    model.add(Activation('relu'))\n",
        "    model.add(MaxPooling2D(pool_size=(2, 2)))\n",
        "    \n",
        "    model.add(Conv2D(64, (3, 3)))\n",
        "    model.add(Activation('relu'))\n",
        "    model.add(MaxPooling2D(pool_size=(2, 2)))\n",
        "    \n",
        "    model.add(Flatten())\n",
        "    model.add(Dense(64))\n",
        "    model.add(Activation('relu'))\n",
        "    model.add(Dropout(0.5))\n",
        "    model.add(Dense(1))\n",
        "    model.add(Activation('sigmoid'))\n",
        "    \n",
        "    model.compile(loss='binary_crossentropy', metrics=['accuracy'], \n",
        "                  optimizer='rmsprop')\n",
        "    \n",
        "    return model"
      ]
    },
    {
      "cell_type": "code",
      "source": [
        "model_a().summary()"
      ],
      "metadata": {
        "colab": {
          "base_uri": "https://localhost:8080/"
        },
        "id": "RW1nuZDuHiMs",
        "outputId": "85f33bfd-4526-4ae4-e324-0d27e83634f9"
      },
      "execution_count": null,
      "outputs": [
        {
          "output_type": "stream",
          "name": "stdout",
          "text": [
            "Model: \"sequential_3\"\n",
            "_________________________________________________________________\n",
            " Layer (type)                Output Shape              Param #   \n",
            "=================================================================\n",
            " conv2d_9 (Conv2D)           (None, 148, 148, 32)      896       \n",
            "                                                                 \n",
            " activation_15 (Activation)  (None, 148, 148, 32)      0         \n",
            "                                                                 \n",
            " max_pooling2d_9 (MaxPooling  (None, 74, 74, 32)       0         \n",
            " 2D)                                                             \n",
            "                                                                 \n",
            " conv2d_10 (Conv2D)          (None, 72, 72, 32)        9248      \n",
            "                                                                 \n",
            " activation_16 (Activation)  (None, 72, 72, 32)        0         \n",
            "                                                                 \n",
            " max_pooling2d_10 (MaxPoolin  (None, 36, 36, 32)       0         \n",
            " g2D)                                                            \n",
            "                                                                 \n",
            " conv2d_11 (Conv2D)          (None, 34, 34, 64)        18496     \n",
            "                                                                 \n",
            " activation_17 (Activation)  (None, 34, 34, 64)        0         \n",
            "                                                                 \n",
            " max_pooling2d_11 (MaxPoolin  (None, 17, 17, 64)       0         \n",
            " g2D)                                                            \n",
            "                                                                 \n",
            " flatten_3 (Flatten)         (None, 18496)             0         \n",
            "                                                                 \n",
            " dense_6 (Dense)             (None, 64)                1183808   \n",
            "                                                                 \n",
            " activation_18 (Activation)  (None, 64)                0         \n",
            "                                                                 \n",
            " dropout_3 (Dropout)         (None, 64)                0         \n",
            "                                                                 \n",
            " dense_7 (Dense)             (None, 1)                 65        \n",
            "                                                                 \n",
            " activation_19 (Activation)  (None, 1)                 0         \n",
            "                                                                 \n",
            "=================================================================\n",
            "Total params: 1,212,513\n",
            "Trainable params: 1,212,513\n",
            "Non-trainable params: 0\n",
            "_________________________________________________________________\n"
          ]
        }
      ]
    },
    {
      "cell_type": "code",
      "execution_count": null,
      "metadata": {
        "colab": {
          "base_uri": "https://localhost:8080/"
        },
        "id": "Xu_v10EUGU58",
        "outputId": "7ba725a5-7947-4499-cf2c-964a6d2e7ecb"
      },
      "outputs": [
        {
          "output_type": "stream",
          "name": "stdout",
          "text": [
            "Found 498 images belonging to 2 classes.\n",
            "Found 500 images belonging to 2 classes.\n"
          ]
        }
      ],
      "source": [
        "batch_size = 50\n",
        "epochs = 10\n",
        "train_datagen = ImageDataGenerator(rescale=1. / 255) # rescaling pixels to be between [0, 1]\n",
        "test_datagen = ImageDataGenerator(rescale=1. / 255) # rescaling pixels to be between [0, 1]\n",
        "\n",
        "# Data parameters\n",
        "num_train_samples = 498\n",
        "num_test_samples = 500\n",
        "\n",
        "# Data generators\n",
        "train_generator = train_datagen.flow_from_directory(\n",
        "    train_data_dir,\n",
        "    target_size=(img_width, img_height), # resizing images to be in img_width x img_height (150x150)\n",
        "    batch_size=batch_size,\n",
        "    class_mode='binary'\n",
        ")\n",
        "\n",
        "test_generator = test_datagen.flow_from_directory(\n",
        "    test_data_dir,\n",
        "    target_size=(img_width, img_height), # resizing images to be in img_width x img_height (150x150)\n",
        "    batch_size=batch_size,\n",
        "    class_mode='binary'\n",
        ")"
      ]
    },
    {
      "cell_type": "code",
      "execution_count": null,
      "metadata": {
        "colab": {
          "base_uri": "https://localhost:8080/"
        },
        "id": "XhuSTP84CEP7",
        "outputId": "0125f90f-2125-48b9-bab1-ec7f97f99bb5"
      },
      "outputs": [
        {
          "output_type": "stream",
          "name": "stdout",
          "text": [
            "Executing run 1\n",
            " * Evaluating model on test set\n",
            " * Test set Loss: 0.6892, Accuracy: 0.5580\n",
            "Executing run 2\n",
            " * Evaluating model on test set\n",
            " * Test set Loss: 1.1645, Accuracy: 0.5700\n",
            "Executing run 3\n",
            " * Evaluating model on test set\n",
            " * Test set Loss: 1.5719, Accuracy: 0.5500\n",
            "Executing run 4\n",
            " * Evaluating model on test set\n",
            " * Test set Loss: 2.3114, Accuracy: 0.5660\n",
            "Executing run 5\n",
            " * Evaluating model on test set\n",
            " * Test set Loss: 3.1927, Accuracy: 0.5720\n"
          ]
        }
      ],
      "source": [
        "mean_accuracy, std_accuracy = evaluate_model(model=model_a(), runs=5)"
      ]
    },
    {
      "cell_type": "code",
      "execution_count": null,
      "metadata": {
        "colab": {
          "base_uri": "https://localhost:8080/"
        },
        "id": "KsFw6WswGU6I",
        "outputId": "d9c2a482-c75b-4972-a8e4-6462928f2d2e"
      },
      "outputs": [
        {
          "output_type": "stream",
          "name": "stdout",
          "text": [
            "Mean test set accuracy over 5 runs: 0.5632 +/- 0.0082\n"
          ]
        }
      ],
      "source": [
        "print('Mean test set accuracy over 5 runs: %.4f +/- %.4f' % (mean_accuracy, std_accuracy))"
      ]
    },
    {
      "cell_type": "markdown",
      "source": [
        "# Part (b): Modeling Using Transfer Learning"
      ],
      "metadata": {
        "id": "v4bERyzYzukH"
      }
    },
    {
      "cell_type": "code",
      "execution_count": null,
      "metadata": {
        "id": "FLNyGKnnyXiH"
      },
      "outputs": [],
      "source": [
        "def model_b():\n",
        "    ''' \n",
        "    Uses a base-model (Xception) with pre-trained weights (on ImageNet), scales the input pixels between -1 to 1, and adds a GlobalAveragePooling2D layer.\n",
        "    '''\n",
        "    base_model = keras.applications.Xception(\n",
        "      weights='imagenet',\n",
        "      input_shape=input_shape,\n",
        "      include_top=False) # Xception architecture with weights pre-trained on ImageNet\n",
        "    \n",
        "    base_model.trainable = False # the layers of the base model are kept frozen\n",
        "\n",
        "    inputs = keras.Input(shape=input_shape)\n",
        "\n",
        "    scale_layer = keras.layers.Rescaling(scale=1 / 127.5, offset=-1) # pixels are scaled from -1 to 1\n",
        "    x = scale_layer(inputs)\n",
        "\n",
        "    x = base_model(x, training=False) # scaling layer is a non-training layer\n",
        "    x = keras.layers.GlobalAveragePooling2D()(x)\n",
        "    x = keras.layers.Dense(64, activation='relu')(x)\n",
        "    x = keras.layers.Dropout(0.2)(x)\n",
        "    x = keras.layers.Dense(64, activation='relu')(x)\n",
        "    x = keras.layers.Dropout(0.2)(x)\n",
        "\n",
        "    outputs = keras.layers.Dense(1, activation='sigmoid')(x)\n",
        "\n",
        "    model = keras.Model(inputs, outputs)\n",
        "\n",
        "    model.compile(loss='binary_crossentropy', metrics=['accuracy'], \n",
        "                  optimizer='rmsprop')\n",
        "    \n",
        "    return model"
      ]
    },
    {
      "cell_type": "code",
      "source": [
        "model_b().summary()"
      ],
      "metadata": {
        "colab": {
          "base_uri": "https://localhost:8080/"
        },
        "id": "_lRlr1ECKQ7s",
        "outputId": "35df77b2-2b7d-430c-b50a-8fbe77cbb643"
      },
      "execution_count": null,
      "outputs": [
        {
          "output_type": "stream",
          "name": "stdout",
          "text": [
            "Downloading data from https://storage.googleapis.com/tensorflow/keras-applications/xception/xception_weights_tf_dim_ordering_tf_kernels_notop.h5\n",
            "83689472/83683744 [==============================] - 3s 0us/step\n",
            "83697664/83683744 [==============================] - 3s 0us/step\n",
            "Model: \"model\"\n",
            "_________________________________________________________________\n",
            " Layer (type)                Output Shape              Param #   \n",
            "=================================================================\n",
            " input_2 (InputLayer)        [(None, 150, 150, 3)]     0         \n",
            "                                                                 \n",
            " rescaling (Rescaling)       (None, 150, 150, 3)       0         \n",
            "                                                                 \n",
            " xception (Functional)       (None, 5, 5, 2048)        20861480  \n",
            "                                                                 \n",
            " global_average_pooling2d (G  (None, 2048)             0         \n",
            " lobalAveragePooling2D)                                          \n",
            "                                                                 \n",
            " dense_12 (Dense)            (None, 64)                131136    \n",
            "                                                                 \n",
            " dropout_6 (Dropout)         (None, 64)                0         \n",
            "                                                                 \n",
            " dense_13 (Dense)            (None, 64)                4160      \n",
            "                                                                 \n",
            " dropout_7 (Dropout)         (None, 64)                0         \n",
            "                                                                 \n",
            " dense_14 (Dense)            (None, 1)                 65        \n",
            "                                                                 \n",
            "=================================================================\n",
            "Total params: 20,996,841\n",
            "Trainable params: 135,361\n",
            "Non-trainable params: 20,861,480\n",
            "_________________________________________________________________\n"
          ]
        }
      ]
    },
    {
      "cell_type": "code",
      "execution_count": null,
      "metadata": {
        "colab": {
          "base_uri": "https://localhost:8080/"
        },
        "id": "XsfBPn-TyHER",
        "outputId": "498c10f0-3b3c-4a4a-f638-77c1f001cb2a"
      },
      "outputs": [
        {
          "output_type": "stream",
          "name": "stdout",
          "text": [
            "Found 498 images belonging to 2 classes.\n",
            "Found 500 images belonging to 2 classes.\n"
          ]
        }
      ],
      "source": [
        "batch_size = 32\n",
        "epochs = 10\n",
        "train_datagen = ImageDataGenerator()\n",
        "test_datagen = ImageDataGenerator()\n",
        "\n",
        "# Data parameters\n",
        "num_train_samples = 498\n",
        "num_test_samples = 500\n",
        "\n",
        "# Data generators\n",
        "train_generator = train_datagen.flow_from_directory(\n",
        "    train_data_dir,\n",
        "    target_size=(img_width, img_height), # resizing images to be in img_width x img_height (150x150)\n",
        "    batch_size=batch_size,\n",
        "    class_mode='binary'\n",
        ")\n",
        "\n",
        "test_generator = test_datagen.flow_from_directory(\n",
        "    test_data_dir,\n",
        "    target_size=(img_width, img_height), # resizing images to be in img_width x img_height (150x150)\n",
        "    batch_size=batch_size,\n",
        "    class_mode='binary'\n",
        ")"
      ]
    },
    {
      "cell_type": "code",
      "source": [
        "mean_accuracy, std_accuracy = evaluate_model(model=model_b(), runs=5)"
      ],
      "metadata": {
        "colab": {
          "base_uri": "https://localhost:8080/"
        },
        "id": "jf4M6_MWKkUY",
        "outputId": "04139ccb-823a-47e7-fb03-2453c048aed9"
      },
      "execution_count": null,
      "outputs": [
        {
          "output_type": "stream",
          "name": "stdout",
          "text": [
            "Executing run 1\n",
            " * Evaluating model on test set\n",
            " * Test set Loss: 0.3589, Accuracy: 0.8833\n",
            "Executing run 2\n",
            " * Evaluating model on test set\n",
            " * Test set Loss: 0.5333, Accuracy: 0.9062\n",
            "Executing run 3\n",
            " * Evaluating model on test set\n",
            " * Test set Loss: 1.0761, Accuracy: 0.8708\n",
            "Executing run 4\n",
            " * Evaluating model on test set\n",
            " * Test set Loss: 0.9277, Accuracy: 0.8917\n",
            "Executing run 5\n",
            " * Evaluating model on test set\n",
            " * Test set Loss: 1.1651, Accuracy: 0.8917\n"
          ]
        }
      ]
    },
    {
      "cell_type": "code",
      "execution_count": null,
      "metadata": {
        "colab": {
          "base_uri": "https://localhost:8080/"
        },
        "id": "LYFfoNDY8uvB",
        "outputId": "db68d80d-7ce8-4249-d6f4-fa3da12b5394"
      },
      "outputs": [
        {
          "output_type": "stream",
          "name": "stdout",
          "text": [
            "Mean test set accuracy over 5 runs: 0.8887 +/- 0.0116\n"
          ]
        }
      ],
      "source": [
        "print('Mean test set accuracy over 5 runs: %.4f +/- %.4f' % (mean_accuracy, std_accuracy))"
      ]
    }
  ],
  "metadata": {
    "accelerator": "GPU",
    "colab": {
      "collapsed_sections": [
        "hMlMtbsVCXli"
      ],
      "name": "Hot Dogs or Not-Hot Dogs.ipynb",
      "provenance": []
    },
    "kernelspec": {
      "display_name": "Python 3",
      "name": "python3"
    },
    "language_info": {
      "codemirror_mode": {
        "name": "ipython",
        "version": 3
      },
      "file_extension": ".py",
      "mimetype": "text/x-python",
      "name": "python",
      "nbconvert_exporter": "python",
      "pygments_lexer": "ipython3",
      "version": "3.6.5"
    }
  },
  "nbformat": 4,
  "nbformat_minor": 0
}